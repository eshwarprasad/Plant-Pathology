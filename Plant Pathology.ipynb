{
 "cells": [
  {
   "cell_type": "markdown",
   "metadata": {
    "id": "ufcI1cah2o_T"
   },
   "source": [
    "## Preparing the ground <a id=\"1.1\"></a>"
   ]
  },
  {
   "cell_type": "markdown",
   "metadata": {
    "id": "1XvcaAzr2rjY"
   },
   "source": [
    "### Install and import necessary libraries"
   ]
  },
  {
   "cell_type": "code",
   "execution_count": null,
   "metadata": {
    "id": "V8TgyWRwpnKH"
   },
   "outputs": [],
   "source": [
    "!pip install -q efficientnet"
   ]
  },
  {
   "cell_type": "code",
   "execution_count": null,
   "metadata": {
    "_cell_guid": "b1076dfc-b9ad-4769-8c92-a6c4dae69d19",
    "_uuid": "8f2839f25d086af736a60e9eeb907d3b93b6e0e5",
    "id": "y4ElXcLopnKO",
    "outputId": "72756d56-48f2-46c7-d8d0-56ec9fc395ce"
   },
   "outputs": [],
   "source": [
    "import os\n",
    "import gc\n",
    "import re\n",
    "\n",
    "import cv2\n",
    "import math\n",
    "import numpy as np\n",
    "import scipy as sp\n",
    "import pandas as pd\n",
    "\n",
    "import tensorflow as tf\n",
    "from IPython.display import SVG\n",
    "import efficientnet.tfkeras as efn\n",
    "from keras.utils import plot_model\n",
    "import tensorflow.keras.layers as L\n",
    "from keras.utils import model_to_dot\n",
    "import tensorflow.keras.backend as K\n",
    "from tensorflow.keras.models import Model\n",
    "from kaggle_datasets import KaggleDatasets\n",
    "from tensorflow.keras.applications import DenseNet121\n",
    "\n",
    "import seaborn as sns\n",
    "from tqdm import tqdm\n",
    "import matplotlib.cm as cm\n",
    "from sklearn import metrics\n",
    "import matplotlib.pyplot as plt\n",
    "from sklearn.utils import shuffle\n",
    "from sklearn.model_selection import train_test_split\n",
    "\n",
    "tqdm.pandas()\n",
    "import plotly.express as px\n",
    "import plotly.graph_objects as go\n",
    "import plotly.figure_factory as ff\n",
    "from plotly.subplots import make_subplots\n",
    "\n",
    "np.random.seed(0)\n",
    "tf.random.set_seed(0)\n",
    "\n",
    "import warnings\n",
    "warnings.filterwarnings(\"ignore\")"
   ]
  },
  {
   "cell_type": "code",
   "execution_count": null,
   "metadata": {
    "id": "2ZC6VPQHpnMR"
   },
   "outputs": [],
   "source": [
    "AUTO = tf.data.experimental.AUTOTUNE\n",
    "tpu = tf.distribute.cluster_resolver.TPUClusterResolver()\n",
    "\n",
    "tf.config.experimental_connect_to_cluster(tpu)\n",
    "tf.tpu.experimental.initialize_tpu_system(tpu)\n",
    "strategy = tf.distribute.experimental.TPUStrategy(tpu)\n",
    "\n",
    "BATCH_SIZE = 16 * strategy.num_replicas_in_sync\n",
    "GCS_DS_PATH = KaggleDatasets().get_gcs_path()"
   ]
  },
  {
   "cell_type": "code",
   "execution_count": null,
   "metadata": {},
   "outputs": [],
   "source": [
    "aSDFGHJK"
   ]
  },
  {
   "cell_type": "markdown",
   "metadata": {
    "id": "DyZKLcDg2yRi"
   },
   "source": [
    "### Load the data and define hyperparameters"
   ]
  },
  {
   "cell_type": "code",
   "execution_count": null,
   "metadata": {
    "_cell_guid": "79c7e3d0-c299-4dcb-8224-4455121ee9b0",
    "_uuid": "d629ff2d2480ee46fbb7e2d37f6b5fab8052498a",
    "id": "mneU8D9bpnKS"
   },
   "outputs": [],
   "source": [
    "EPOCHS = 20\n",
    "SAMPLE_LEN = 100\n",
    "IMAGE_PATH = \"../input/plant-pathology-2020-fgvc7/images/\"\n",
    "TEST_PATH = \"../input/plant-pathology-2020-fgvc7/test.csv\"\n",
    "TRAIN_PATH = \"../input/plant-pathology-2020-fgvc7/train.csv\"\n",
    "SUB_PATH = \"../input/plant-pathology-2020-fgvc7/sample_submission.csv\"\n",
    "\n",
    "sub = pd.read_csv(SUB_PATH)\n",
    "test_data = pd.read_csv(TEST_PATH)\n",
    "train_data = pd.read_csv(TRAIN_PATH)"
   ]
  },
  {
   "cell_type": "code",
   "execution_count": null,
   "metadata": {
    "id": "lSXP0xubpnKW",
    "outputId": "80d177b3-cf7d-4088-90ff-149edfb86295"
   },
   "outputs": [],
   "source": [
    "train_data.head()"
   ]
  },
  {
   "cell_type": "code",
   "execution_count": null,
   "metadata": {
    "id": "XISwCeBjpnKa",
    "outputId": "61f70add-a4df-452e-feee-f0ffe0dfac14"
   },
   "outputs": [],
   "source": [
    "test_data.head()"
   ]
  },
  {
   "cell_type": "markdown",
   "metadata": {
    "id": "O6DgMHJz293K"
   },
   "source": [
    "### Load sample images"
   ]
  },
  {
   "cell_type": "code",
   "execution_count": null,
   "metadata": {
    "id": "uJD4JbtHpnKd",
    "outputId": "afb14520-4a05-4f26-e7bc-96a86b3f478c"
   },
   "outputs": [],
   "source": [
    "def load_image(image_id):\n",
    "    file_path = image_id + \".jpg\"\n",
    "    image = cv2.imread(IMAGE_PATH + file_path)\n",
    "    return cv2.cvtColor(image, cv2.COLOR_BGR2RGB)\n",
    "\n",
    "train_images = train_data[\"image_id\"][:SAMPLE_LEN].progress_apply(load_image)"
   ]
  },
  {
   "cell_type": "markdown",
   "metadata": {
    "id": "aI1QC_K-3HjL"
   },
   "source": [
    "## Visualize one leaf <a id=\"1.2\"></a>"
   ]
  },
  {
   "cell_type": "markdown",
   "metadata": {
    "id": "UY_1XspN3Afg"
   },
   "source": [
    "### Sample image"
   ]
  },
  {
   "cell_type": "code",
   "execution_count": null,
   "metadata": {
    "_kg_hide-input": true,
    "id": "LNXpowwwpnKg",
    "outputId": "7a677746-3d36-4b54-d201-63474cefb493"
   },
   "outputs": [],
   "source": [
    "fig = px.imshow(cv2.resize(train_images[0], (205, 136)))\n",
    "fig.show()"
   ]
  },
  {
   "cell_type": "markdown",
   "metadata": {
    "id": "v7T9CAFoXt9A"
   },
   "source": [
    "In the above images, we can see that the healthy leaves are completely green, do not have any brown/yellow spots or scars. Healthy leaves do not have scab or rust. "
   ]
  },
  {
   "cell_type": "markdown",
   "metadata": {
    "id": "aiPKQDkh5hF5"
   },
   "source": [
    "# Image processing and augmentation <a id=\"2\"></a>"
   ]
  },
  {
   "cell_type": "markdown",
   "metadata": {},
   "source": [
    "\n"
   ]
  },
  {
   "cell_type": "code",
   "execution_count": null,
   "metadata": {
    "_kg_hide-input": true,
    "id": "uU_iqYaCpnL7"
   },
   "outputs": [],
   "source": [
    "def edge_and_cut(img):\n",
    "    emb_img = img.copy()\n",
    "    edges = cv2.Canny(img, 100, 200)\n",
    "    edge_coors = []\n",
    "    for i in range(edges.shape[0]):\n",
    "        for j in range(edges.shape[1]):\n",
    "            if edges[i][j] != 0:\n",
    "                edge_coors.append((i, j))\n",
    "    \n",
    "    row_min = edge_coors[np.argsort([coor[0] for coor in edge_coors])[0]][0]\n",
    "    row_max = edge_coors[np.argsort([coor[0] for coor in edge_coors])[-1]][0]\n",
    "    col_min = edge_coors[np.argsort([coor[1] for coor in edge_coors])[0]][1]\n",
    "    col_max = edge_coors[np.argsort([coor[1] for coor in edge_coors])[-1]][1]\n",
    "    new_img = img[row_min:row_max, col_min:col_max]\n",
    "    \n",
    "    emb_img[row_min-10:row_min+10, col_min:col_max] = [255, 0, 0]\n",
    "    emb_img[row_max-10:row_max+10, col_min:col_max] = [255, 0, 0]\n",
    "    emb_img[row_min:row_max, col_min-10:col_min+10] = [255, 0, 0]\n",
    "    emb_img[row_min:row_max, col_max-10:col_max+10] = [255, 0, 0]\n",
    "    \n",
    "    fig, ax = plt.subplots(nrows=1, ncols=3, figsize=(30, 20))\n",
    "    ax[0].imshow(img, cmap='gray')\n",
    "    ax[0].set_title('Original Image', fontsize=24)\n",
    "    ax[1].imshow(edges, cmap='gray')\n",
    "    ax[1].set_title('Canny Edges', fontsize=24)\n",
    "    ax[2].imshow(emb_img, cmap='gray')\n",
    "    ax[2].set_title('Bounding Box', fontsize=24)\n",
    "    plt.show()"
   ]
  },
  {
   "cell_type": "code",
   "execution_count": null,
   "metadata": {
    "_kg_hide-input": true,
    "id": "bYJ0t9kppnL9",
    "outputId": "a2785c32-9151-4d8d-f837-ec9de9de49bf"
   },
   "outputs": [],
   "source": [
    "edge_and_cut(train_images[3])\n",
    "edge_and_cut(train_images[4])\n",
    "edge_and_cut(train_images[5])"
   ]
  },
  {
   "cell_type": "code",
   "execution_count": null,
   "metadata": {
    "_kg_hide-input": true,
    "id": "XPZwEZAepnMA"
   },
   "outputs": [],
   "source": [
    "def invert(img):\n",
    "    fig, ax = plt.subplots(nrows=1, ncols=3, figsize=(30, 20))\n",
    "    ax[0].imshow(img)\n",
    "    ax[0].set_title('Original Image', fontsize=24)\n",
    "    ax[1].imshow(cv2.flip(img, 0))\n",
    "    ax[1].set_title('Vertical Flip', fontsize=24)\n",
    "    ax[2].imshow(cv2.flip(img, 1))\n",
    "    ax[2].set_title('Horizontal Flip', fontsize=24)\n",
    "    plt.show()"
   ]
  },
  {
   "cell_type": "code",
   "execution_count": null,
   "metadata": {
    "_kg_hide-input": true,
    "id": "gaiLRUzopnMD",
    "outputId": "dc8f2538-abb7-4449-f0c9-dedd8a393843"
   },
   "outputs": [],
   "source": [
    "invert(train_images[3])\n",
    "invert(train_images[4])\n",
    "invert(train_images[5])"
   ]
  },
  {
   "cell_type": "markdown",
   "metadata": {},
   "source": [
    "We can see that the images are simply flipped. All major features in the image remain the same, but to a computer algorithm, the flipped images look completely different. These transformations can be used for data augmentation, making models more robust and accurate."
   ]
  },
  {
   "cell_type": "code",
   "execution_count": null,
   "metadata": {
    "_kg_hide-input": true,
    "id": "aa81abmWpnMG"
   },
   "outputs": [],
   "source": [
    "def conv(img):\n",
    "    fig, ax = plt.subplots(nrows=1, ncols=2, figsize=(20, 20))\n",
    "    kernel = np.ones((7, 7), np.float32)/25\n",
    "    conv = cv2.filter2D(img, -1, kernel)\n",
    "    ax[0].imshow(img)\n",
    "    ax[0].set_title('Original Image', fontsize=24)\n",
    "    ax[1].imshow(conv)\n",
    "    ax[1].set_title('Convolved Image', fontsize=24)\n",
    "    plt.show()"
   ]
  },
  {
   "cell_type": "code",
   "execution_count": null,
   "metadata": {
    "_kg_hide-input": true,
    "id": "2rqxzygspnMJ",
    "outputId": "98092ab1-48d2-4ce6-e3a9-0342e31cf91c"
   },
   "outputs": [],
   "source": [
    "conv(train_images[3])\n",
    "conv(train_images[4])\n",
    "conv(train_images[5])"
   ]
  },
  {
   "cell_type": "code",
   "execution_count": null,
   "metadata": {
    "_kg_hide-input": true,
    "id": "OcXTa-cxpnMM"
   },
   "outputs": [],
   "source": [
    "def blur(img):\n",
    "    fig, ax = plt.subplots(nrows=1, ncols=2, figsize=(20, 20))\n",
    "    ax[0].imshow(img)\n",
    "    ax[0].set_title('Original Image', fontsize=24)\n",
    "    ax[1].imshow(cv2.blur(img, (100, 100)))\n",
    "    ax[1].set_title('Blurred Image', fontsize=24)\n",
    "    plt.show()"
   ]
  },
  {
   "cell_type": "code",
   "execution_count": null,
   "metadata": {
    "_kg_hide-input": true,
    "id": "aH5qRDdupnMP",
    "outputId": "5b649688-b7e6-419e-d060-ddb09a291e38"
   },
   "outputs": [],
   "source": [
    "blur(train_images[3])\n",
    "blur(train_images[4])\n",
    "blur(train_images[5])"
   ]
  },
  {
   "cell_type": "markdown",
   "metadata": {
    "id": "wyfDeAJo6lGL"
   },
   "source": [
    "# Modeling <a id=\"3\"></a>"
   ]
  },
  {
   "cell_type": "markdown",
   "metadata": {
    "id": "zOfbl73V6t3p"
   },
   "source": [
    "### Setup TPU Config"
   ]
  },
  {
   "cell_type": "markdown",
   "metadata": {
    "id": "SuAHc2hu6-Nu"
   },
   "source": [
    "### Load labels and paths"
   ]
  },
  {
   "cell_type": "code",
   "execution_count": null,
   "metadata": {
    "id": "9BALmDtRpnMU"
   },
   "outputs": [],
   "source": [
    "def format_path(st):\n",
    "    return GCS_DS_PATH + '/images/' + st + '.jpg'\n",
    "\n",
    "test_paths = test_data.image_id.apply(format_path).values\n",
    "train_paths = train_data.image_id.apply(format_path).values\n",
    "\n",
    "train_labels = np.float32(train_data.loc[:, 'healthy':'scab'].values)\n",
    "train_paths, valid_paths, train_labels, valid_labels =\\\n",
    "train_test_split(train_paths, train_labels, test_size=0.15, random_state=2020)"
   ]
  },
  {
   "cell_type": "code",
   "execution_count": null,
   "metadata": {
    "id": "T84Nnc1jpnMW"
   },
   "outputs": [],
   "source": [
    "def decode_image(filename, label=None, image_size=(512, 512)):\n",
    "    bits = tf.io.read_file(filename)\n",
    "    image = tf.image.decode_jpeg(bits, channels=3)\n",
    "    image = tf.cast(image, tf.float32) / 255.0\n",
    "    image = tf.image.resize(image, image_size)\n",
    "    \n",
    "    if label is None:\n",
    "        return image\n",
    "    else:\n",
    "        return image, label\n",
    "\n",
    "def data_augment(image, label=None):\n",
    "    image = tf.image.random_flip_left_right(image)\n",
    "    image = tf.image.random_flip_up_down(image)\n",
    "    \n",
    "    if label is None:\n",
    "        return image\n",
    "    else:\n",
    "        return image, label"
   ]
  },
  {
   "cell_type": "markdown",
   "metadata": {
    "id": "tonEhhQ77Knh"
   },
   "source": [
    "### Create Dataset objects"
   ]
  },
  {
   "cell_type": "code",
   "execution_count": null,
   "metadata": {
    "id": "5rkIRCnupnMZ"
   },
   "outputs": [],
   "source": [
    "train_dataset = (\n",
    "    tf.data.Dataset\n",
    "    .from_tensor_slices((train_paths, train_labels))\n",
    "    .map(decode_image, num_parallel_calls=AUTO)\n",
    "    .map(data_augment, num_parallel_calls=AUTO)\n",
    "    .repeat()\n",
    "    .shuffle(512)\n",
    "    .batch(BATCH_SIZE)\n",
    "    .prefetch(AUTO)\n",
    ")\n",
    "\n",
    "valid_dataset = (\n",
    "    tf.data.Dataset\n",
    "    .from_tensor_slices((valid_paths, valid_labels))\n",
    "    .map(decode_image, num_parallel_calls=AUTO)\n",
    "    .batch(BATCH_SIZE)\n",
    "    .cache()\n",
    "    .prefetch(AUTO)\n",
    ")\n",
    "\n",
    "test_dataset = (\n",
    "    tf.data.Dataset\n",
    "    .from_tensor_slices(test_paths)\n",
    "    .map(decode_image, num_parallel_calls=AUTO)\n",
    "    .batch(BATCH_SIZE)\n",
    ")"
   ]
  },
  {
   "cell_type": "markdown",
   "metadata": {
    "id": "xmirtR2L7TDC"
   },
   "source": [
    "### Helper functions"
   ]
  },
  {
   "cell_type": "code",
   "execution_count": null,
   "metadata": {
    "id": "uiiCB9SdpnMc"
   },
   "outputs": [],
   "source": [
    "def build_lrfn(lr_start=0.00001, lr_max=0.00005, \n",
    "               lr_min=0.00001, lr_rampup_epochs=5, \n",
    "               lr_sustain_epochs=0, lr_exp_decay=.8):\n",
    "    lr_max = lr_max * strategy.num_replicas_in_sync\n",
    "\n",
    "    def lrfn(epoch):\n",
    "        if epoch < lr_rampup_epochs:\n",
    "            lr = (lr_max - lr_start) / lr_rampup_epochs * epoch + lr_start\n",
    "        elif epoch < lr_rampup_epochs + lr_sustain_epochs:\n",
    "            lr = lr_max\n",
    "        else:\n",
    "            lr = (lr_max - lr_min) *\\\n",
    "                 lr_exp_decay**(epoch - lr_rampup_epochs\\\n",
    "                                - lr_sustain_epochs) + lr_min\n",
    "        return lr\n",
    "    return lrfn"
   ]
  },
  {
   "cell_type": "markdown",
   "metadata": {},
   "source": [
    "### Define hyperparameters and callbacks"
   ]
  },
  {
   "cell_type": "code",
   "execution_count": null,
   "metadata": {},
   "outputs": [],
   "source": [
    "lrfn = build_lrfn()\n",
    "STEPS_PER_EPOCH = train_labels.shape[0] // BATCH_SIZE\n",
    "lr_schedule = tf.keras.callbacks.LearningRateScheduler(lrfn, verbose=1)"
   ]
  },
  {
   "cell_type": "code",
   "execution_count": null,
   "metadata": {
    "id": "7fllHhN9pnMe",
    "outputId": "c030160f-118a-43db-f431-0fd6b4379292"
   },
   "outputs": [],
   "source": [
    "with strategy.scope():\n",
    "    model = tf.keras.Sequential([DenseNet121(input_shape=(512, 512, 3),\n",
    "                                             weights='imagenet',\n",
    "                                             include_top=False),\n",
    "                                 L.GlobalAveragePooling2D(),\n",
    "                                 L.Dense(train_labels.shape[1],\n",
    "                                         activation='softmax')])\n",
    "        \n",
    "    model.compile(optimizer='adam',\n",
    "                  loss = 'categorical_crossentropy',\n",
    "                  metrics=['categorical_accuracy'])\n",
    "    model.summary()"
   ]
  },
  {
   "cell_type": "markdown",
   "metadata": {},
   "source": [
    "### DenseNet fundamental block"
   ]
  },
  {
   "cell_type": "code",
   "execution_count": null,
   "metadata": {
    "_kg_hide-input": true
   },
   "outputs": [],
   "source": [
    "SVG(tf.keras.utils.model_to_dot(Model(model.layers[0].input, model.layers[0].layers[13].output), dpi=70).create(prog='dot', format='svg'))"
   ]
  },
  {
   "cell_type": "code",
   "execution_count": null,
   "metadata": {
    "_kg_hide-input": true
   },
   "outputs": [],
   "source": [
    "SVG(tf.keras.utils.model_to_dot(model, dpi=70).create(prog='dot', format='svg'))"
   ]
  },
  {
   "cell_type": "markdown",
   "metadata": {
    "id": "V4yafObR7wIo"
   },
   "source": [
    "### Train model"
   ]
  },
  {
   "cell_type": "code",
   "execution_count": null,
   "metadata": {
    "_kg_hide-input": false,
    "_kg_hide-output": true,
    "id": "V56dwx6opnMh",
    "outputId": "4fc94f9f-ac22-4386-a9d2-6e3192493b33"
   },
   "outputs": [],
   "source": [
    "history = model.fit(train_dataset,\n",
    "                    epochs=EPOCHS,\n",
    "                    callbacks=[lr_schedule],\n",
    "                    steps_per_epoch=STEPS_PER_EPOCH,\n",
    "                    validation_data=valid_dataset)"
   ]
  },
  {
   "cell_type": "markdown",
   "metadata": {
    "id": "H32GrB0L7ulh"
   },
   "source": [
    "### Visualize results"
   ]
  },
  {
   "cell_type": "code",
   "execution_count": null,
   "metadata": {
    "_kg_hide-input": true
   },
   "outputs": [],
   "source": [
    "def display_training_curves(training, validation, yaxis):\n",
    "    if yaxis == \"loss\":\n",
    "        ylabel = \"Loss\"\n",
    "        title = \"Loss vs. Epochs\"\n",
    "    else:\n",
    "        ylabel = \"Accuracy\"\n",
    "        title = \"Accuracy vs. Epochs\"\n",
    "        \n",
    "    fig = go.Figure()\n",
    "        \n",
    "    fig.add_trace(\n",
    "        go.Scatter(x=np.arange(1, EPOCHS+1), mode='lines+markers', y=training, marker=dict(color=\"dodgerblue\"),\n",
    "               name=\"Train\"))\n",
    "    \n",
    "    fig.add_trace(\n",
    "        go.Scatter(x=np.arange(1, EPOCHS+1), mode='lines+markers', y=validation, marker=dict(color=\"darkorange\"),\n",
    "               name=\"Val\"))\n",
    "    \n",
    "    fig.update_layout(title_text=title, yaxis_title=ylabel, xaxis_title=\"Epochs\", template=\"plotly_white\")\n",
    "    fig.show()"
   ]
  },
  {
   "cell_type": "markdown",
   "metadata": {
    "id": "U2Rmet4p-ot3"
   },
   "source": [
    "### Scatter plots"
   ]
  },
  {
   "cell_type": "code",
   "execution_count": null,
   "metadata": {
    "_kg_hide-input": true,
    "id": "dKUl8NckpnMn",
    "outputId": "eb37495e-52fc-4e0f-dc0b-e82e708dcf94"
   },
   "outputs": [],
   "source": [
    "display_training_curves(\n",
    "    history.history['categorical_accuracy'], \n",
    "    history.history['val_categorical_accuracy'], \n",
    "    'accuracy')"
   ]
  },
  {
   "cell_type": "code",
   "execution_count": null,
   "metadata": {
    "_kg_hide-input": true
   },
   "outputs": [],
   "source": [
    "acc_df = pd.DataFrame(np.transpose([[*np.arange(1, EPOCHS+1).tolist()*3], [\"Train\"]*EPOCHS + [\"Val\"]*EPOCHS + [\"Benchmark\"]*EPOCHS,\n",
    "                                     history.history['categorical_accuracy'] + history.history['val_categorical_accuracy'] + [1.0]*EPOCHS]))\n",
    "acc_df.columns = [\"Epochs\", \"Stage\", \"Accuracy\"]\n",
    "fig = px.bar(acc_df, x=\"Accuracy\", y=\"Stage\", animation_frame=\"Epochs\", title=\"Accuracy vs. Epochs\", color='Stage',\n",
    "       color_discrete_map={\"Train\":\"dodgerblue\", \"Val\":\"darkorange\", \"Benchmark\":\"seagreen\"}, orientation=\"h\")\n",
    "\n",
    "fig.update_layout(\n",
    "    xaxis = dict(\n",
    "        autorange=False,\n",
    "        range=[0, 1]\n",
    "    )\n",
    ")\n",
    "\n",
    "fig.update_layout(template=\"plotly_white\")"
   ]
  },
  {
   "cell_type": "code",
   "execution_count": null,
   "metadata": {
    "_kg_hide-input": true
   },
   "outputs": [],
   "source": [
    "def process(img):\n",
    "    return cv2.resize(img/255.0, (512, 512)).reshape(-1, 512, 512, 3)\n",
    "def predict(img):\n",
    "    return model.layers[2](model.layers[1](model.layers[0](process(img)))).numpy()[0]\n",
    "\n",
    "fig = make_subplots(rows=4, cols=2)\n",
    "preds = predict(train_images[2])\n",
    "\n",
    "colors = {\"Healthy\":px.colors.qualitative.Plotly[0], \"Scab\":px.colors.qualitative.Plotly[0], \"Rust\":px.colors.qualitative.Plotly[0], \"Multiple diseases\":px.colors.qualitative.Plotly[0]}\n",
    "if list.index(preds.tolist(), max(preds)) == 0:\n",
    "    pred = \"Healthy\"\n",
    "if list.index(preds.tolist(), max(preds)) == 1:\n",
    "    pred = \"Scab\"\n",
    "if list.index(preds.tolist(), max(preds)) == 2:\n",
    "    pred = \"Rust\"\n",
    "if list.index(preds.tolist(), max(preds)) == 3:\n",
    "    pred = \"Multiple diseases\"\n",
    "\n",
    "colors[pred] = px.colors.qualitative.Plotly[1]\n",
    "colors[\"Healthy\"] = \"seagreen\"\n",
    "colors = [colors[val] for val in colors.keys()]\n",
    "fig.add_trace(go.Image(z=cv2.resize(train_images[2], (205, 136))), row=1, col=1)\n",
    "fig.add_trace(go.Bar(x=[\"Healthy\", \"Multiple diseases\", \"Rust\", \"Scab\"], y=preds, marker=dict(color=colors)), row=1, col=2)\n",
    "fig.update_layout(height=1200, width=800, title_text=\"DenseNet Predictions\", showlegend=False)\n",
    "\n",
    "preds = predict(train_images[0])\n",
    "colors = {\"Healthy\":px.colors.qualitative.Plotly[0], \"Scab\":px.colors.qualitative.Plotly[0], \"Rust\":px.colors.qualitative.Plotly[0], \"Multiple diseases\":px.colors.qualitative.Plotly[0]}\n",
    "if list.index(preds.tolist(), max(preds)) == 0:\n",
    "    pred = \"Healthy\"\n",
    "if list.index(preds.tolist(), max(preds)) == 1:\n",
    "    pred = \"Multiple diseases\"\n",
    "if list.index(preds.tolist(), max(preds)) == 2:\n",
    "    pred = \"Rust\"\n",
    "if list.index(preds.tolist(), max(preds)) == 3:\n",
    "    pred = \"Scab\"\n",
    "    \n",
    "colors[pred] = px.colors.qualitative.Plotly[1]\n",
    "colors[\"Multiple diseases\"] = \"seagreen\"\n",
    "colors = [colors[val] for val in colors.keys()]\n",
    "fig.add_trace(go.Image(z=cv2.resize(train_images[0], (205, 136))), row=2, col=1)\n",
    "fig.add_trace(go.Bar(x=[\"Healthy\", \"Multiple diseases\", \"Rust\", \"Scab\"], y=preds, marker=dict(color=colors)), row=2, col=2)\n",
    "\n",
    "preds = predict(train_images[3])\n",
    "colors = {\"Healthy\":px.colors.qualitative.Plotly[0], \"Scab\":px.colors.qualitative.Plotly[0], \"Rust\":px.colors.qualitative.Plotly[0], \"Multiple diseases\":px.colors.qualitative.Plotly[0]}\n",
    "if list.index(preds.tolist(), max(preds)) == 0:\n",
    "    pred = \"Healthy\"\n",
    "if list.index(preds.tolist(), max(preds)) == 1:\n",
    "    pred = \"Multiple diseases\"\n",
    "if list.index(preds.tolist(), max(preds)) == 2:\n",
    "    pred = \"Rust\"\n",
    "if list.index(preds.tolist(), max(preds)) == 3:\n",
    "    pred = \"Scab\"\n",
    "    \n",
    "colors[pred] = px.colors.qualitative.Plotly[1]\n",
    "colors[\"Rust\"] = \"seagreen\"\n",
    "colors = [colors[val] for val in colors.keys()]\n",
    "fig.add_trace(go.Image(z=cv2.resize(train_images[3], (205, 136))), row=3, col=1)\n",
    "fig.add_trace(go.Bar(x=[\"Healthy\", \"Multiple diseases\", \"Rust\", \"Scab\"], y=preds, marker=dict(color=colors)), row=3, col=2)\n",
    "\n",
    "preds = predict(train_images[1])\n",
    "colors = {\"Healthy\":px.colors.qualitative.Plotly[0], \"Scab\":px.colors.qualitative.Plotly[0], \"Rust\":px.colors.qualitative.Plotly[0], \"Multiple diseases\":px.colors.qualitative.Plotly[0]}\n",
    "if list.index(preds.tolist(), max(preds)) == 0:\n",
    "    pred = \"Healthy\"\n",
    "if list.index(preds.tolist(), max(preds)) == 1:\n",
    "    pred = \"Multiple diseases\"\n",
    "if list.index(preds.tolist(), max(preds)) == 2:\n",
    "    pred = \"Rust\"\n",
    "if list.index(preds.tolist(), max(preds)) == 3:\n",
    "    pred = \"Scab\"\n",
    "    \n",
    "colors[pred] = px.colors.qualitative.Plotly[1]\n",
    "colors[\"Scab\"] = \"seagreen\"\n",
    "colors = [colors[val] for val in colors.keys()]\n",
    "fig.add_trace(go.Image(z=cv2.resize(train_images[1], (205, 136))), row=4, col=1)\n",
    "fig.add_trace(go.Bar(x=[\"Healthy\", \"Multiple diseases\", \"Rust\", \"Scab\"], y=preds, marker=dict(color=colors)), row=4, col=2)\n",
    "\n",
    "fig.update_layout(template=\"plotly_white\")"
   ]
  },
  {
   "cell_type": "markdown",
   "metadata": {},
   "source": [
    "### Generate submission"
   ]
  },
  {
   "cell_type": "code",
   "execution_count": null,
   "metadata": {},
   "outputs": [],
   "source": [
    "probs_dnn = model.predict(test_dataset, verbose=1)\n",
    "sub.loc[:, 'healthy':] = probs_dnn\n",
    "sub.to_csv('submission_dnn.csv', index=False)\n",
    "sub.head()"
   ]
  },
  {
   "cell_type": "code",
   "execution_count": null,
   "metadata": {
    "id": "x8ELPOLJpnMp",
    "outputId": "03e23ca7-1a98-4a3d-d61b-3edcb1ae0ced"
   },
   "outputs": [],
   "source": [
    "with strategy.scope():\n",
    "    model = tf.keras.Sequential([efn.EfficientNetB7(input_shape=(512, 512, 3),\n",
    "                                                    weights='imagenet',\n",
    "                                                    include_top=False),\n",
    "                                 L.GlobalAveragePooling2D(),\n",
    "                                 L.Dense(train_labels.shape[1],\n",
    "                                         activation='softmax')])\n",
    "    \n",
    "    \n",
    "        \n",
    "    model.compile(optimizer='adam',\n",
    "                  loss = 'categorical_crossentropy',\n",
    "                  metrics=['categorical_accuracy'])\n",
    "    model.summary()"
   ]
  },
  {
   "cell_type": "markdown",
   "metadata": {},
   "source": [
    "### EfficientNet fundamental block"
   ]
  },
  {
   "cell_type": "code",
   "execution_count": null,
   "metadata": {
    "_kg_hide-input": true
   },
   "outputs": [],
   "source": [
    "SVG(tf.keras.utils.model_to_dot(Model(model.layers[0].input, model.layers[0].layers[11].output), dpi=70).create(prog='dot', format='svg'))"
   ]
  },
  {
   "cell_type": "code",
   "execution_count": null,
   "metadata": {
    "_kg_hide-input": true
   },
   "outputs": [],
   "source": [
    "SVG(tf.keras.utils.model_to_dot(model, dpi=70).create(prog='dot', format='svg'))"
   ]
  },
  {
   "cell_type": "markdown",
   "metadata": {
    "id": "DKydIBmq76tf"
   },
   "source": [
    "### Train model"
   ]
  },
  {
   "cell_type": "code",
   "execution_count": null,
   "metadata": {
    "_kg_hide-input": false,
    "_kg_hide-output": true,
    "id": "MHuypFwdpnMr",
    "outputId": "3fde00ef-c8ac-46b4-bd0f-81a1294bf66f"
   },
   "outputs": [],
   "source": [
    "history = model.fit(train_dataset,\n",
    "                    epochs=EPOCHS,\n",
    "                    callbacks=[lr_schedule],\n",
    "                    steps_per_epoch=STEPS_PER_EPOCH,\n",
    "                    validation_data=valid_dataset)"
   ]
  },
  {
   "cell_type": "markdown",
   "metadata": {
    "id": "hus0ZMYP8Ehy"
   },
   "source": [
    "### Visualize results"
   ]
  },
  {
   "cell_type": "markdown",
   "metadata": {
    "id": "gTrARyKO-aQP"
   },
   "source": [
    "### Scatter plots"
   ]
  },
  {
   "cell_type": "code",
   "execution_count": null,
   "metadata": {
    "_kg_hide-input": true,
    "id": "94JJ7UNDpnMu",
    "outputId": "f4331b89-9fbc-47aa-884a-0b5d26df1479"
   },
   "outputs": [],
   "source": [
    "display_training_curves(\n",
    "    history.history['categorical_accuracy'], \n",
    "    history.history['val_categorical_accuracy'], \n",
    "    'accuracy')"
   ]
  },
  {
   "cell_type": "code",
   "execution_count": null,
   "metadata": {
    "_kg_hide-input": true
   },
   "outputs": [],
   "source": [
    "acc_df = pd.DataFrame(np.transpose([[*np.arange(1, EPOCHS+1).tolist()*3], [\"Train\"]*EPOCHS + [\"Val\"]*EPOCHS + [\"Benchmark\"]*EPOCHS,\n",
    "                                     history.history['categorical_accuracy'] + history.history['val_categorical_accuracy'] + [1.0]*EPOCHS]))\n",
    "acc_df.columns = [\"Epochs\", \"Stage\", \"Accuracy\"]\n",
    "fig = px.bar(acc_df, x=\"Accuracy\", y=\"Stage\", animation_frame=\"Epochs\", title=\"Accuracy vs. Epochs\", color='Stage',\n",
    "       color_discrete_map={\"Train\":\"dodgerblue\", \"Val\":\"darkorange\", \"Benchmark\":\"seagreen\"}, orientation=\"h\")\n",
    "\n",
    "fig.update_layout(\n",
    "    xaxis = dict(\n",
    "        autorange=False,\n",
    "        range=[0, 1]\n",
    "    )\n",
    ")\n",
    "\n",
    "fig.update_layout(template=\"plotly_white\")"
   ]
  },
  {
   "cell_type": "code",
   "execution_count": null,
   "metadata": {
    "_kg_hide-input": true
   },
   "outputs": [],
   "source": [
    "def process(img):\n",
    "    return cv2.resize(img/255.0, (512, 512)).reshape(-1, 512, 512, 3)\n",
    "def predict(img):\n",
    "    return model.layers[2](model.layers[1](model.layers[0](process(img)))).numpy()[0]\n",
    "\n",
    "fig = make_subplots(rows=4, cols=2)\n",
    "preds = predict(train_images[2])\n",
    "\n",
    "colors = {\"Healthy\":px.colors.qualitative.Plotly[0], \"Scab\":px.colors.qualitative.Plotly[0], \"Rust\":px.colors.qualitative.Plotly[0], \"Multiple diseases\":px.colors.qualitative.Plotly[0]}\n",
    "if list.index(preds.tolist(), max(preds)) == 0:\n",
    "    pred = \"Healthy\"\n",
    "if list.index(preds.tolist(), max(preds)) == 1:\n",
    "    pred = \"Scab\"\n",
    "if list.index(preds.tolist(), max(preds)) == 2:\n",
    "    pred = \"Rust\"\n",
    "if list.index(preds.tolist(), max(preds)) == 3:\n",
    "    pred = \"Multiple diseases\"\n",
    "\n",
    "colors[pred] = px.colors.qualitative.Plotly[1]\n",
    "colors[\"Healthy\"] = \"seagreen\"\n",
    "colors = [colors[val] for val in colors.keys()]\n",
    "fig.add_trace(go.Image(z=cv2.resize(train_images[2], (205, 136))), row=1, col=1)\n",
    "fig.add_trace(go.Bar(x=[\"Healthy\", \"Multiple diseases\", \"Rust\", \"Scab\"], y=preds, marker=dict(color=colors)), row=1, col=2)\n",
    "fig.update_layout(height=1200, width=800, title_text=\"EfficientNet Predictions\", showlegend=False)\n",
    "\n",
    "preds = predict(train_images[0])\n",
    "colors = {\"Healthy\":px.colors.qualitative.Plotly[0], \"Scab\":px.colors.qualitative.Plotly[0], \"Rust\":px.colors.qualitative.Plotly[0], \"Multiple diseases\":px.colors.qualitative.Plotly[0]}\n",
    "if list.index(preds.tolist(), max(preds)) == 0:\n",
    "    pred = \"Healthy\"\n",
    "if list.index(preds.tolist(), max(preds)) == 1:\n",
    "    pred = \"Multiple diseases\"\n",
    "if list.index(preds.tolist(), max(preds)) == 2:\n",
    "    pred = \"Rust\"\n",
    "if list.index(preds.tolist(), max(preds)) == 3:\n",
    "    pred = \"Scab\"\n",
    "    \n",
    "colors[pred] = px.colors.qualitative.Plotly[1]\n",
    "colors[\"Multiple diseases\"] = \"seagreen\"\n",
    "colors = [colors[val] for val in colors.keys()]\n",
    "fig.add_trace(go.Image(z=cv2.resize(train_images[0], (205, 136))), row=2, col=1)\n",
    "fig.add_trace(go.Bar(x=[\"Healthy\", \"Multiple diseases\", \"Rust\", \"Scab\"], y=preds, marker=dict(color=colors)), row=2, col=2)\n",
    "\n",
    "preds = predict(train_images[3])\n",
    "colors = {\"Healthy\":px.colors.qualitative.Plotly[0], \"Scab\":px.colors.qualitative.Plotly[0], \"Rust\":px.colors.qualitative.Plotly[0], \"Multiple diseases\":px.colors.qualitative.Plotly[0]}\n",
    "if list.index(preds.tolist(), max(preds)) == 0:\n",
    "    pred = \"Healthy\"\n",
    "if list.index(preds.tolist(), max(preds)) == 1:\n",
    "    pred = \"Multiple diseases\"\n",
    "if list.index(preds.tolist(), max(preds)) == 2:\n",
    "    pred = \"Rust\"\n",
    "if list.index(preds.tolist(), max(preds)) == 3:\n",
    "    pred = \"Scab\"\n",
    "    \n",
    "colors[pred] = px.colors.qualitative.Plotly[1]\n",
    "colors[\"Rust\"] = \"seagreen\"\n",
    "colors = [colors[val] for val in colors.keys()]\n",
    "fig.add_trace(go.Image(z=cv2.resize(train_images[3], (205, 136))), row=3, col=1)\n",
    "fig.add_trace(go.Bar(x=[\"Healthy\", \"Multiple diseases\", \"Rust\", \"Scab\"], y=preds, marker=dict(color=colors)), row=3, col=2)\n",
    "\n",
    "preds = predict(train_images[1])\n",
    "colors = {\"Healthy\":px.colors.qualitative.Plotly[0], \"Scab\":px.colors.qualitative.Plotly[0], \"Rust\":px.colors.qualitative.Plotly[0], \"Multiple diseases\":px.colors.qualitative.Plotly[0]}\n",
    "if list.index(preds.tolist(), max(preds)) == 0:\n",
    "    pred = \"Healthy\"\n",
    "if list.index(preds.tolist(), max(preds)) == 1:\n",
    "    pred = \"Multiple diseases\"\n",
    "if list.index(preds.tolist(), max(preds)) == 2:\n",
    "    pred = \"Rust\"\n",
    "if list.index(preds.tolist(), max(preds)) == 3:\n",
    "    pred = \"Scab\"\n",
    "    \n",
    "colors[pred] = px.colors.qualitative.Plotly[1]\n",
    "colors[\"Scab\"] = \"seagreen\"\n",
    "colors = [colors[val] for val in colors.keys()]\n",
    "fig.add_trace(go.Image(z=cv2.resize(train_images[1], (205, 136))), row=4, col=1)\n",
    "fig.add_trace(go.Bar(x=[\"Healthy\", \"Multiple diseases\", \"Rust\", \"Scab\"], y=preds, marker=dict(color=colors)), row=4, col=2)\n",
    "fig.update_layout(template=\"plotly_white\")"
   ]
  },
  {
   "cell_type": "markdown",
   "metadata": {},
   "source": [
    "### Generate submission"
   ]
  },
  {
   "cell_type": "code",
   "execution_count": null,
   "metadata": {},
   "outputs": [],
   "source": [
    "probs_efn = model.predict(test_dataset, verbose=1)\n",
    "sub.loc[:, 'healthy':] = probs_efn\n",
    "sub.to_csv('submission_efn.csv', index=False)\n",
    "sub.head()"
   ]
  },
  {
   "cell_type": "code",
   "execution_count": null,
   "metadata": {},
   "outputs": [],
   "source": [
    "with strategy.scope():\n",
    "    model = tf.keras.Sequential([efn.EfficientNetB7(input_shape=(512, 512, 3),\n",
    "                                                    weights='noisy-student',\n",
    "                                                    include_top=False),\n",
    "                                 L.GlobalAveragePooling2D(),\n",
    "                                 L.Dense(train_labels.shape[1],\n",
    "                                         activation='softmax')])\n",
    "    \n",
    "    \n",
    "        \n",
    "    model.compile(optimizer='adam',\n",
    "                  loss = 'categorical_crossentropy',\n",
    "                  metrics=['categorical_accuracy'])\n",
    "    model.summary()"
   ]
  },
  {
   "cell_type": "markdown",
   "metadata": {},
   "source": [
    "### EfficientNet NoisyStudent"
   ]
  },
  {
   "cell_type": "code",
   "execution_count": null,
   "metadata": {
    "_kg_hide-input": true
   },
   "outputs": [],
   "source": [
    "SVG(tf.keras.utils.model_to_dot(Model(model.layers[0].input, model.layers[0].layers[11].output), dpi=70).create(prog='dot', format='svg'))"
   ]
  },
  {
   "cell_type": "code",
   "execution_count": null,
   "metadata": {
    "_kg_hide-input": true
   },
   "outputs": [],
   "source": [
    "SVG(tf.keras.utils.model_to_dot(model, dpi=70).create(prog='dot', format='svg'))"
   ]
  },
  {
   "cell_type": "markdown",
   "metadata": {},
   "source": [
    "### Train model"
   ]
  },
  {
   "cell_type": "code",
   "execution_count": null,
   "metadata": {
    "_kg_hide-input": false,
    "_kg_hide-output": true
   },
   "outputs": [],
   "source": [
    "history = model.fit(train_dataset,\n",
    "                    epochs=EPOCHS,\n",
    "                    callbacks=[lr_schedule],\n",
    "                    steps_per_epoch=STEPS_PER_EPOCH,\n",
    "                    validation_data=valid_dataset)"
   ]
  },
  {
   "cell_type": "markdown",
   "metadata": {},
   "source": [
    "### Visualize results"
   ]
  },
  {
   "cell_type": "markdown",
   "metadata": {},
   "source": [
    "### Scatter plots"
   ]
  },
  {
   "cell_type": "code",
   "execution_count": null,
   "metadata": {
    "_kg_hide-input": true
   },
   "outputs": [],
   "source": [
    "display_training_curves(\n",
    "    history.history['categorical_accuracy'], \n",
    "    history.history['val_categorical_accuracy'], \n",
    "    'accuracy')"
   ]
  },
  {
   "cell_type": "code",
   "execution_count": null,
   "metadata": {
    "_kg_hide-input": true
   },
   "outputs": [],
   "source": [
    "acc_df = pd.DataFrame(np.transpose([[*np.arange(1, EPOCHS+1).tolist()*3], [\"Train\"]*EPOCHS + [\"Val\"]*EPOCHS + [\"Benchmark\"]*EPOCHS,\n",
    "                                     history.history['categorical_accuracy'] + history.history['val_categorical_accuracy'] + [1.0]*EPOCHS]))\n",
    "acc_df.columns = [\"Epochs\", \"Stage\", \"Accuracy\"]\n",
    "fig = px.bar(acc_df, x=\"Accuracy\", y=\"Stage\", animation_frame=\"Epochs\", title=\"Accuracy vs. Epochs\", color='Stage',\n",
    "       color_discrete_map={\"Train\":\"dodgerblue\", \"Val\":\"darkorange\", \"Benchmark\":\"seagreen\"}, orientation=\"h\")\n",
    "\n",
    "fig.update_layout(\n",
    "    xaxis = dict(\n",
    "        autorange=False,\n",
    "        range=[0, 1]\n",
    "    )\n",
    ")\n",
    "\n",
    "fig.update_layout(template=\"plotly_white\")"
   ]
  },
  {
   "cell_type": "code",
   "execution_count": null,
   "metadata": {
    "_kg_hide-input": true
   },
   "outputs": [],
   "source": [
    "def process(img):\n",
    "    return cv2.resize(img/255.0, (512, 512)).reshape(-1, 512, 512, 3)\n",
    "def predict(img):\n",
    "    return model.layers[2](model.layers[1](model.layers[0](process(img)))).numpy()[0]\n",
    "\n",
    "fig = make_subplots(rows=4, cols=2)\n",
    "preds = predict(train_images[2])\n",
    "\n",
    "colors = {\"Healthy\":px.colors.qualitative.Plotly[0], \"Scab\":px.colors.qualitative.Plotly[0], \"Rust\":px.colors.qualitative.Plotly[0], \"Multiple diseases\":px.colors.qualitative.Plotly[0]}\n",
    "if list.index(preds.tolist(), max(preds)) == 0:\n",
    "    pred = \"Healthy\"\n",
    "if list.index(preds.tolist(), max(preds)) == 1:\n",
    "    pred = \"Scab\"\n",
    "if list.index(preds.tolist(), max(preds)) == 2:\n",
    "    pred = \"Rust\"\n",
    "if list.index(preds.tolist(), max(preds)) == 3:\n",
    "    pred = \"Multiple diseases\"\n",
    "\n",
    "colors[pred] = px.colors.qualitative.Plotly[1]\n",
    "colors[\"Healthy\"] = \"seagreen\"\n",
    "colors = [colors[val] for val in colors.keys()]\n",
    "fig.add_trace(go.Image(z=cv2.resize(train_images[2], (205, 136))), row=1, col=1)\n",
    "fig.add_trace(go.Bar(x=[\"Healthy\", \"Multiple diseases\", \"Rust\", \"Scab\"], y=preds, marker=dict(color=colors)), row=1, col=2)\n",
    "fig.update_layout(height=1200, width=800, title_text=\"EfficientNet NoisyStudent Predictions\", showlegend=False)\n",
    "\n",
    "preds = predict(train_images[0])\n",
    "colors = {\"Healthy\":px.colors.qualitative.Plotly[0], \"Scab\":px.colors.qualitative.Plotly[0], \"Rust\":px.colors.qualitative.Plotly[0], \"Multiple diseases\":px.colors.qualitative.Plotly[0]}\n",
    "if list.index(preds.tolist(), max(preds)) == 0:\n",
    "    pred = \"Healthy\"\n",
    "if list.index(preds.tolist(), max(preds)) == 1:\n",
    "    pred = \"Multiple diseases\"\n",
    "if list.index(preds.tolist(), max(preds)) == 2:\n",
    "    pred = \"Rust\"\n",
    "if list.index(preds.tolist(), max(preds)) == 3:\n",
    "    pred = \"Scab\"\n",
    "    \n",
    "colors[pred] = px.colors.qualitative.Plotly[1]\n",
    "colors[\"Multiple diseases\"] = \"seagreen\"\n",
    "colors = [colors[val] for val in colors.keys()]\n",
    "fig.add_trace(go.Image(z=cv2.resize(train_images[0], (205, 136))), row=2, col=1)\n",
    "fig.add_trace(go.Bar(x=[\"Healthy\", \"Multiple diseases\", \"Rust\", \"Scab\"], y=preds, marker=dict(color=colors)), row=2, col=2)\n",
    "\n",
    "preds = predict(train_images[3])\n",
    "colors = {\"Healthy\":px.colors.qualitative.Plotly[0], \"Scab\":px.colors.qualitative.Plotly[0], \"Rust\":px.colors.qualitative.Plotly[0], \"Multiple diseases\":px.colors.qualitative.Plotly[0]}\n",
    "if list.index(preds.tolist(), max(preds)) == 0:\n",
    "    pred = \"Healthy\"\n",
    "if list.index(preds.tolist(), max(preds)) == 1:\n",
    "    pred = \"Multiple diseases\"\n",
    "if list.index(preds.tolist(), max(preds)) == 2:\n",
    "    pred = \"Rust\"\n",
    "if list.index(preds.tolist(), max(preds)) == 3:\n",
    "    pred = \"Scab\"\n",
    "    \n",
    "colors[pred] = px.colors.qualitative.Plotly[1]\n",
    "colors[\"Rust\"] = \"seagreen\"\n",
    "colors = [colors[val] for val in colors.keys()]\n",
    "fig.add_trace(go.Image(z=cv2.resize(train_images[3], (205, 136))), row=3, col=1)\n",
    "fig.add_trace(go.Bar(x=[\"Healthy\", \"Multiple diseases\", \"Rust\", \"Scab\"], y=preds, marker=dict(color=colors)), row=3, col=2)\n",
    "\n",
    "preds = predict(train_images[1])\n",
    "colors = {\"Healthy\":px.colors.qualitative.Plotly[0], \"Scab\":px.colors.qualitative.Plotly[0], \"Rust\":px.colors.qualitative.Plotly[0], \"Multiple diseases\":px.colors.qualitative.Plotly[0]}\n",
    "if list.index(preds.tolist(), max(preds)) == 0:\n",
    "    pred = \"Healthy\"\n",
    "if list.index(preds.tolist(), max(preds)) == 1:\n",
    "    pred = \"Multiple diseases\"\n",
    "if list.index(preds.tolist(), max(preds)) == 2:\n",
    "    pred = \"Rust\"\n",
    "if list.index(preds.tolist(), max(preds)) == 3:\n",
    "    pred = \"Scab\"\n",
    "    \n",
    "colors[pred] = px.colors.qualitative.Plotly[1]\n",
    "colors[\"Scab\"] = \"seagreen\"\n",
    "colors = [colors[val] for val in colors.keys()]\n",
    "fig.add_trace(go.Image(z=cv2.resize(train_images[1], (205, 136))), row=4, col=1)\n",
    "fig.add_trace(go.Bar(x=[\"Healthy\", \"Multiple diseases\", \"Rust\", \"Scab\"], y=preds, marker=dict(color=colors)), row=4, col=2)\n",
    "fig.update_layout(template=\"plotly_white\")"
   ]
  },
  {
   "cell_type": "markdown",
   "metadata": {},
   "source": [
    "### Generate submission"
   ]
  },
  {
   "cell_type": "code",
   "execution_count": null,
   "metadata": {},
   "outputs": [],
   "source": [
    "probs_efnns = model.predict(test_dataset, verbose=1)\n",
    "sub.loc[:, 'healthy':] = probs_efnns\n",
    "sub.to_csv('submission_efnns.csv', index=False)\n",
    "sub.head()"
   ]
  },
  {
   "cell_type": "code",
   "execution_count": null,
   "metadata": {},
   "outputs": [],
   "source": [
    "ensemble_1, ensemble_2, ensemble_3 = [sub]*3\n",
    "\n",
    "ensemble_1.loc[:, 'healthy':] = 0.50*probs_dnn + 0.50*probs_efn\n",
    "ensemble_2.loc[:, 'healthy':] = 0.25*probs_dnn + 0.75*probs_efn\n",
    "ensemble_3.loc[:, 'healthy':] = 0.75*probs_dnn + 0.25*probs_efn\n",
    "\n",
    "ensemble_1.to_csv('submission_ensemble_1.csv', index=False)\n",
    "ensemble_2.to_csv('submission_ensemble_2.csv', index=False)\n",
    "ensemble_3.to_csv('submission_ensemble_3.csv', index=False)"
   ]
  }
 ],
 "metadata": {
  "kernelspec": {
   "display_name": "Python 3",
   "language": "python",
   "name": "python3"
  },
  "language_info": {
   "codemirror_mode": {
    "name": "ipython",
    "version": 3
   },
   "file_extension": ".py",
   "mimetype": "text/x-python",
   "name": "python",
   "nbconvert_exporter": "python",
   "pygments_lexer": "ipython3",
   "version": "3.7.4"
  }
 },
 "nbformat": 4,
 "nbformat_minor": 4
}
